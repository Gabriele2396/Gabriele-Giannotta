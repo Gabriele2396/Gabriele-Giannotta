{
 "cells": [
  {
   "cell_type": "code",
   "execution_count": null,
   "metadata": {},
   "outputs": [],
   "source": [
    "# 1. Say \"Hello, World!\" With Python\n",
    "\n",
    "print(\"Hello, World!\")\n"
   ]
  },
  {
   "cell_type": "code",
   "execution_count": null,
   "metadata": {},
   "outputs": [],
   "source": []
  },
  {
   "cell_type": "code",
   "execution_count": null,
   "metadata": {},
   "outputs": [],
   "source": [
    "# 2. Python If-Else\n",
    "\n",
    "#!/bin/python3\n",
    "\n",
    "import math\n",
    "import os\n",
    "import random\n",
    "import re\n",
    "import sys\n",
    "\n",
    "\n",
    "\n",
    "if __name__ == '__main__':\n",
    "    n = int(input().strip())\n",
    "    \n",
    "    if n%2!=0:\n",
    "        print(\"Weird\")\n",
    "    elif n>=2 and n<=5:\n",
    "        print(\"Not Weird\")\n",
    "    elif n>5 and n<=20:\n",
    "        print (\"Weird\")\n",
    "    elif n>20:\n",
    "        print(\"Not Weird\")\n",
    "        "
   ]
  },
  {
   "cell_type": "code",
   "execution_count": null,
   "metadata": {},
   "outputs": [],
   "source": []
  },
  {
   "cell_type": "code",
   "execution_count": null,
   "metadata": {},
   "outputs": [],
   "source": [
    "# 3. Arithmetic Operators\n",
    "\n",
    "if __name__ == '__main__':\n",
    "    a = int(input())\n",
    "    b = int(input())\n",
    "    print(a + b)\n",
    "    print(a - b)\n",
    "    print(a * b)\n"
   ]
  },
  {
   "cell_type": "code",
   "execution_count": null,
   "metadata": {},
   "outputs": [],
   "source": []
  },
  {
   "cell_type": "code",
   "execution_count": null,
   "metadata": {},
   "outputs": [],
   "source": [
    "# 4. Python: Division\n",
    "\n",
    "if __name__ == '__main__':\n",
    "    a = int(input())\n",
    "    b = int(input())\n",
    "    print(a//b)\n",
    "    print(a/b)\n"
   ]
  },
  {
   "cell_type": "code",
   "execution_count": null,
   "metadata": {},
   "outputs": [],
   "source": []
  },
  {
   "cell_type": "code",
   "execution_count": null,
   "metadata": {},
   "outputs": [],
   "source": [
    "# 5. Loops\n",
    "\n",
    "if __name__ == '__main__':\n",
    "    n = int(input())\n",
    "    for i in range(0,n):\n",
    "        print(i**2)"
   ]
  },
  {
   "cell_type": "code",
   "execution_count": null,
   "metadata": {},
   "outputs": [],
   "source": []
  },
  {
   "cell_type": "code",
   "execution_count": null,
   "metadata": {},
   "outputs": [],
   "source": [
    "# 6. Write a function\n",
    "\n",
    "def is_leap(year):\n",
    "    leap = False\n",
    "\n",
    "    if year%4 == 0:\n",
    "        if year%100 != 0:\n",
    "            leap = True\n",
    "        elif year%400 == 0:\n",
    "                leap = True\n",
    "    \n",
    "    return leap"
   ]
  },
  {
   "cell_type": "code",
   "execution_count": null,
   "metadata": {},
   "outputs": [],
   "source": []
  },
  {
   "cell_type": "code",
   "execution_count": null,
   "metadata": {},
   "outputs": [],
   "source": [
    "# 7. Print Function\n",
    "\n",
    "if __name__ == '__main__':\n",
    "    n = int(input())\n",
    "    for i in range(1, n+1):\n",
    "        print(i, end=\"\")\n"
   ]
  },
  {
   "cell_type": "code",
   "execution_count": null,
   "metadata": {},
   "outputs": [],
   "source": []
  },
  {
   "cell_type": "code",
   "execution_count": null,
   "metadata": {},
   "outputs": [],
   "source": [
    "# 8. List Comprehensions\n",
    "\n",
    "if __name__ == '__main__':\n",
    "    x = int(input())\n",
    "    y = int(input())\n",
    "    z = int(input())\n",
    "    n = int(input())\n",
    "    lst = []\n",
    "    v = 0\n",
    "    for i in range(x+1):\n",
    "        for j in range(y+1):\n",
    "            for k in range(z+1):\n",
    "                if i+j+k != n:\n",
    "                    lst.append([])\n",
    "                    lst[v]=[i,j,k]\n",
    "                    v += 1\n",
    "    print(lst)\n",
    "\n",
    "    \n",
    "# 8.1 List Comprehensions(13.10.2019)\n",
    "\n",
    "x = int(input())\n",
    "y = int(input())\n",
    "z = int(input())\n",
    "n = int(input())\n",
    "print([[i,j,k] for i in range(x+1) for j in range(y+1) for k in range(z+1) if ((i+j+k)!=n)])\n"
   ]
  },
  {
   "cell_type": "code",
   "execution_count": null,
   "metadata": {},
   "outputs": [],
   "source": []
  },
  {
   "cell_type": "code",
   "execution_count": null,
   "metadata": {},
   "outputs": [],
   "source": [
    "# 9. Find the Runner-Up Score!\n",
    "\n",
    "if __name__ == '__main__':\n",
    "    n = int(input())\n",
    "    arr = list(map(int, input().split()))\n",
    "    m = max(arr)\n",
    "    while max(arr)==m:\n",
    "        arr.remove(max(arr))\n",
    "\n",
    "    print(max(arr))"
   ]
  },
  {
   "cell_type": "code",
   "execution_count": null,
   "metadata": {},
   "outputs": [],
   "source": []
  },
  {
   "cell_type": "code",
   "execution_count": null,
   "metadata": {},
   "outputs": [],
   "source": [
    "# 10. Nested Lists\n",
    "\n",
    "if __name__ == '__main__':\n",
    "    students = []\n",
    "    grades = []\n",
    "    for _ in range(int(input())):\n",
    "        name = input()\n",
    "        score = float(input())\n",
    "        students.append([name, score])\n",
    "        grades.append(score)\n",
    "\n",
    "    b=sorted(list(set(grades)))[1]\n",
    "    for a,c in sorted(students):\n",
    "             if c==b:\n",
    "                    print(a)"
   ]
  },
  {
   "cell_type": "code",
   "execution_count": null,
   "metadata": {},
   "outputs": [],
   "source": []
  },
  {
   "cell_type": "code",
   "execution_count": null,
   "metadata": {},
   "outputs": [],
   "source": [
    "# 11. Finding the percentage\n",
    "\n",
    "import statistics as stat\n",
    "\n",
    "if __name__ == '__main__':\n",
    "    n = int(input())\n",
    "    student_marks = {}\n",
    "    for _ in range(n):\n",
    "        name, *line = input().split()\n",
    "        scores = list(map(float, line))\n",
    "        student_marks[name] = scores\n",
    "    query_name = input()\n",
    "\n",
    "    all_marks = student_marks[query_name]\n",
    "    print(\"%.2f\"%(stat.mean(all_marks)))"
   ]
  },
  {
   "cell_type": "code",
   "execution_count": null,
   "metadata": {},
   "outputs": [],
   "source": []
  },
  {
   "cell_type": "code",
   "execution_count": null,
   "metadata": {},
   "outputs": [],
   "source": [
    "# 12. sWAP cASE\n",
    "\n",
    "def swap_case(s):\n",
    "    new_s = \"\"\n",
    "\n",
    "    for i in s:\n",
    "        if i.isupper()==True:\n",
    "            new_s += i.lower()\n",
    "            \n",
    "        elif i.islower()==True:\n",
    "            new_s += i.upper()\n",
    "            \n",
    "        elif i.isspace()==True:\n",
    "            new_s += i\n",
    "        else:\n",
    "            new_s += i\n",
    "  \n",
    "    return new_s\n"
   ]
  },
  {
   "cell_type": "code",
   "execution_count": null,
   "metadata": {},
   "outputs": [],
   "source": []
  },
  {
   "cell_type": "code",
   "execution_count": null,
   "metadata": {},
   "outputs": [],
   "source": [
    "# 13. String Split and Join\n",
    "\n",
    "def split_and_join(line):\n",
    "    line = line.split(\" \")\n",
    "    line = \"-\".join(line)\n",
    "    return line"
   ]
  },
  {
   "cell_type": "code",
   "execution_count": null,
   "metadata": {},
   "outputs": [],
   "source": []
  },
  {
   "cell_type": "code",
   "execution_count": null,
   "metadata": {},
   "outputs": [],
   "source": [
    "# 14. What's Your Name?\n",
    "\n",
    "def print_full_name(a, b):\n",
    "    a = first_name\n",
    "    b = last_name\n",
    "    print(\"Hello {} {}! You just delved into python.\".format(a, b))"
   ]
  },
  {
   "cell_type": "code",
   "execution_count": null,
   "metadata": {},
   "outputs": [],
   "source": []
  },
  {
   "cell_type": "code",
   "execution_count": null,
   "metadata": {},
   "outputs": [],
   "source": [
    "# 15. Mutations\n",
    "\n",
    "def mutate_string(string, position, character):\n",
    "\n",
    "    string = s\n",
    "    new_string = list(string)\n",
    "    new_string[int(i)] = c\n",
    "    string = \"\".join(new_string)\n",
    "\n",
    "    return string"
   ]
  },
  {
   "cell_type": "code",
   "execution_count": null,
   "metadata": {},
   "outputs": [],
   "source": []
  },
  {
   "cell_type": "code",
   "execution_count": null,
   "metadata": {},
   "outputs": [],
   "source": [
    "# 16. Find a string\n",
    "\n",
    "def count_substring(string, sub_string):\n",
    "    total = 0\n",
    "    for i in range(len(string)-len(sub_string)+1):\n",
    "        if string[i:i+len(sub_string)] == sub_string:\n",
    "            total += 1        \n",
    "    return total\n"
   ]
  },
  {
   "cell_type": "code",
   "execution_count": null,
   "metadata": {},
   "outputs": [],
   "source": []
  },
  {
   "cell_type": "code",
   "execution_count": null,
   "metadata": {},
   "outputs": [],
   "source": [
    "# 17. String Validators\n",
    "\n",
    "if __name__ == '__main__':\n",
    "    s = input()\n",
    "    print(any(c.isalnum()  for c in s))\n",
    "    print(any(c.isalpha() for c in s))\n",
    "    print(any(c.isdigit() for c in s))\n",
    "    print(any(c.islower() for c in s))\n",
    "    print(any(c.isupper() for c in s))\n",
    "    "
   ]
  },
  {
   "cell_type": "code",
   "execution_count": null,
   "metadata": {},
   "outputs": [],
   "source": []
  },
  {
   "cell_type": "code",
   "execution_count": null,
   "metadata": {},
   "outputs": [],
   "source": [
    "# 18. Text Wrap\n",
    "\n",
    "def wrap(string, max_width):\n",
    "    return \"\\n\".join([string[i:i+max_width] for i in range(0, len(string), max_width)])\n"
   ]
  },
  {
   "cell_type": "code",
   "execution_count": null,
   "metadata": {},
   "outputs": [],
   "source": []
  },
  {
   "cell_type": "code",
   "execution_count": null,
   "metadata": {},
   "outputs": [],
   "source": [
    "# 19. Capitalize!\n",
    "\n",
    "import string as st\n",
    "def solve(s):\n",
    "    return st.capwords(s, \" \")\n"
   ]
  },
  {
   "cell_type": "code",
   "execution_count": null,
   "metadata": {},
   "outputs": [],
   "source": []
  },
  {
   "cell_type": "code",
   "execution_count": null,
   "metadata": {},
   "outputs": [],
   "source": [
    "# 20. Introduction to Sets\n",
    "\n",
    "def average(array):\n",
    "    total = sum(set(arr))/len(set(arr))\n",
    "    return total\n"
   ]
  },
  {
   "cell_type": "code",
   "execution_count": null,
   "metadata": {},
   "outputs": [],
   "source": []
  },
  {
   "cell_type": "code",
   "execution_count": null,
   "metadata": {},
   "outputs": [],
   "source": [
    "# 21. Symmetric Difference\n",
    "\n",
    "number = int(input())\n",
    "M = set(map(int, input().split()))\n",
    "number2 = int(input())\n",
    "N = set(map(int, input().split()))\n",
    "\n",
    "new_set = sorted(M^N)\n",
    "for i in new_set:\n",
    "    print (i)\n",
    "    "
   ]
  },
  {
   "cell_type": "code",
   "execution_count": null,
   "metadata": {},
   "outputs": [],
   "source": []
  },
  {
   "cell_type": "code",
   "execution_count": null,
   "metadata": {},
   "outputs": [],
   "source": [
    "# 22. Set .add()\n",
    "\n",
    "N = int(input())\n",
    "country = set()\n",
    "for i in range(N):\n",
    "    countryadd = country.add(input())\n",
    "print(len(country))\n"
   ]
  },
  {
   "cell_type": "code",
   "execution_count": null,
   "metadata": {},
   "outputs": [],
   "source": []
  },
  {
   "cell_type": "code",
   "execution_count": null,
   "metadata": {},
   "outputs": [],
   "source": [
    "# 23. Tuples\n",
    "\n",
    "if __name__ == '__main__':\n",
    "    n = int(input())\n",
    "    integer_list = tuple(list(map(int, input().split())))\n",
    "    print(str(hash(integer_list)))\n",
    "    "
   ]
  },
  {
   "cell_type": "code",
   "execution_count": null,
   "metadata": {},
   "outputs": [],
   "source": []
  },
  {
   "cell_type": "code",
   "execution_count": null,
   "metadata": {},
   "outputs": [],
   "source": [
    "# 24. Set .union() Operation\n",
    "\n",
    "n_en = int(input())\n",
    "en_students = set(list(map(int, input().split())))\n",
    "\n",
    "n_fr = int(input())\n",
    "fr_students = set(list(map(int, input().split())))\n",
    "\n",
    "print(len(en_students.union(fr_students)))\n"
   ]
  },
  {
   "cell_type": "code",
   "execution_count": null,
   "metadata": {},
   "outputs": [],
   "source": []
  },
  {
   "cell_type": "code",
   "execution_count": null,
   "metadata": {},
   "outputs": [],
   "source": [
    "# 25. Set .intersection() Operation\n",
    "\n",
    "n_en = int(input())\n",
    "en_students = set(list(map(int, input().split())))\n",
    "\n",
    "n_fr = int(input())\n",
    "fr_students = set(list(map(int, input().split())))\n",
    "\n",
    "print(len(en_students.intersection(fr_students)))\n"
   ]
  },
  {
   "cell_type": "code",
   "execution_count": null,
   "metadata": {},
   "outputs": [],
   "source": []
  },
  {
   "cell_type": "code",
   "execution_count": null,
   "metadata": {},
   "outputs": [],
   "source": [
    "# 26. Set .difference() Operation\n",
    "\n",
    "n_en = int(input())\n",
    "en_students = set(list(map(int, input().split())))\n",
    "\n",
    "n_fr = int(input())\n",
    "fr_students = set(list(map(int, input().split())))\n",
    "\n",
    "print(len(en_students.difference(fr_students)))\n"
   ]
  },
  {
   "cell_type": "code",
   "execution_count": null,
   "metadata": {},
   "outputs": [],
   "source": []
  },
  {
   "cell_type": "code",
   "execution_count": null,
   "metadata": {},
   "outputs": [],
   "source": [
    "# 27. Set .symmetric_difference() Operation\n",
    "\n",
    "n_en = int(input())\n",
    "en_students = set(list(map(int, input().split())))\n",
    "\n",
    "n_fr = int(input())\n",
    "fr_students = set(list(map(int, input().split())))\n",
    "\n",
    "print(len(en_students.symmetric_difference(fr_students)))\n"
   ]
  },
  {
   "cell_type": "code",
   "execution_count": null,
   "metadata": {},
   "outputs": [],
   "source": []
  },
  {
   "cell_type": "code",
   "execution_count": null,
   "metadata": {},
   "outputs": [],
   "source": [
    "# 28. Arrays\n",
    "\n",
    "def arrays(arr):\n",
    "    rev_arr = numpy.array(arr, float)[::-1]\n",
    "    return rev_arr\n"
   ]
  },
  {
   "cell_type": "code",
   "execution_count": null,
   "metadata": {},
   "outputs": [],
   "source": []
  },
  {
   "cell_type": "code",
   "execution_count": null,
   "metadata": {},
   "outputs": [],
   "source": [
    "# 29. Shape and Reshape\n",
    "\n",
    "import numpy as np\n",
    "array = np.array(list(map(int, input().split())))\n",
    "array.shape=(3,3)\n",
    "print(array)\n"
   ]
  },
  {
   "cell_type": "code",
   "execution_count": null,
   "metadata": {},
   "outputs": [],
   "source": []
  },
  {
   "cell_type": "code",
   "execution_count": null,
   "metadata": {},
   "outputs": [],
   "source": [
    "# 30. Transpose and Flatten\n",
    "\n",
    "import numpy as np\n",
    "rows, columns = map(int, input().split())\n",
    "array = np.array([input().split() for i in range(rows)], int)\n",
    "print (array.transpose())\n",
    "print (array.flatten())\n"
   ]
  },
  {
   "cell_type": "code",
   "execution_count": null,
   "metadata": {},
   "outputs": [],
   "source": []
  },
  {
   "cell_type": "code",
   "execution_count": null,
   "metadata": {},
   "outputs": [],
   "source": [
    "# 31. Concatenate\n",
    "\n",
    "import numpy as np\n",
    "N, M, P = map(int, input().split())\n",
    "elmsP1 = np.array([input().split() for i in range(N)], int)\n",
    "elmsP2 = np.array([input().split() for i in range(M)], int)    \n",
    "print(np.concatenate((elmsP1, elmsP2), axis=0))\n"
   ]
  },
  {
   "cell_type": "code",
   "execution_count": null,
   "metadata": {},
   "outputs": [],
   "source": []
  },
  {
   "cell_type": "code",
   "execution_count": null,
   "metadata": {},
   "outputs": [],
   "source": [
    "# 32. Zeros and Ones\n",
    "\n",
    "import numpy as np\n",
    "array = list(map(int, input().split()))\n",
    "print (np.zeros(array, int))\n",
    "print (np.ones(array, int))\n"
   ]
  },
  {
   "cell_type": "code",
   "execution_count": null,
   "metadata": {},
   "outputs": [],
   "source": []
  },
  {
   "cell_type": "code",
   "execution_count": null,
   "metadata": {},
   "outputs": [],
   "source": [
    "# 33. Eye and Identity\n",
    "\n",
    "import numpy as np\n",
    "N, M = list(map(int, input().split()))\n",
    "print(str(np.eye(N, M, k = 0)).replace('1',' 1').replace('0',' 0'))\n"
   ]
  },
  {
   "cell_type": "code",
   "execution_count": null,
   "metadata": {},
   "outputs": [],
   "source": []
  },
  {
   "cell_type": "code",
   "execution_count": null,
   "metadata": {},
   "outputs": [],
   "source": [
    "# 34. Array Mathematics\n",
    "\n",
    "import numpy as np\n",
    "N, M = list(map(int, input().split()))\n",
    "arr1, arr2= (np.array([input().split() for i in range(N)], int) for j in range(2))\n",
    "print(np.add(arr1, arr2))\n",
    "print(np.subtract(arr1, arr2))\n",
    "print(np.multiply(arr1, arr2))\n",
    "print(arr1//arr2)\n",
    "print(np.mod(arr1, arr2))\n",
    "print(np.power(arr1, arr2))\n"
   ]
  },
  {
   "cell_type": "code",
   "execution_count": null,
   "metadata": {},
   "outputs": [],
   "source": []
  },
  {
   "cell_type": "code",
   "execution_count": null,
   "metadata": {},
   "outputs": [],
   "source": [
    "# 35. Floor, Ceil and Rint\n",
    "\n",
    "import numpy as np\n",
    "np.set_printoptions(sign=' ')\n",
    "array = np.array(list(map(float, input().split())))\n",
    "print (np.floor(array))\n",
    "print (np.ceil(array))\n",
    "print (np.rint(array))\n"
   ]
  },
  {
   "cell_type": "code",
   "execution_count": null,
   "metadata": {},
   "outputs": [],
   "source": []
  },
  {
   "cell_type": "code",
   "execution_count": null,
   "metadata": {},
   "outputs": [],
   "source": [
    "# 36. Sum and Prod\n",
    "\n",
    "import numpy as np\n",
    "N, M = list(map(int, input().split()))\n",
    "array = np.array([input().split() for i in range(N)], int)\n",
    "sm = np.sum(array, axis=0)\n",
    "pr = np.prod(sm, axis=0)\n",
    "print(pr)\n"
   ]
  },
  {
   "cell_type": "code",
   "execution_count": null,
   "metadata": {},
   "outputs": [],
   "source": []
  },
  {
   "cell_type": "code",
   "execution_count": null,
   "metadata": {},
   "outputs": [],
   "source": [
    "# 37. Min and Max\n",
    "\n",
    "import numpy as np\n",
    "N, M = list(map(int, input().split()))\n",
    "array = np.array([input().split() for i in range(N)], int)\n",
    "minimum = np.min(array, axis = 1)\n",
    "maximum = np.max(minimum)\n",
    "print(maximum)\n"
   ]
  },
  {
   "cell_type": "code",
   "execution_count": null,
   "metadata": {},
   "outputs": [],
   "source": []
  },
  {
   "cell_type": "code",
   "execution_count": null,
   "metadata": {},
   "outputs": [],
   "source": [
    "# 38. Mean, Var, and Std\n",
    "\n",
    "import numpy as np\n",
    "np.set_printoptions(legacy='1.13') #I looked for it in discussions to fix the hackerRank problem \n",
    "N, M = list(map(int, input().split()))\n",
    "array = np.array([input().split() for i in range(N)], int)\n",
    "print(np.mean(array, axis = 1))\n",
    "print(np.var(array, axis = 0))\n",
    "print(np.std(array, axis = None))\n"
   ]
  },
  {
   "cell_type": "code",
   "execution_count": null,
   "metadata": {},
   "outputs": [],
   "source": []
  },
  {
   "cell_type": "code",
   "execution_count": null,
   "metadata": {},
   "outputs": [],
   "source": [
    "# 39. Dot and Cross\n",
    "\n",
    "import numpy as np\n",
    "N= int(input())\n",
    "A = np.array([input().split() for i in range(N)], int)\n",
    "B = np.array([input().split() for i in range(N)], int)\n",
    "print(np.dot(A, B))\n"
   ]
  },
  {
   "cell_type": "code",
   "execution_count": null,
   "metadata": {},
   "outputs": [],
   "source": []
  },
  {
   "cell_type": "code",
   "execution_count": null,
   "metadata": {},
   "outputs": [],
   "source": [
    "# 40. Inner and Outer\n",
    "\n",
    "import numpy as np\n",
    "A = np.array(input().split(), int)\n",
    "B = np.array(input().split(), int)\n",
    "print(np.inner(A, B))\n",
    "print(np.outer(A, B))\n"
   ]
  },
  {
   "cell_type": "code",
   "execution_count": null,
   "metadata": {},
   "outputs": [],
   "source": []
  },
  {
   "cell_type": "code",
   "execution_count": null,
   "metadata": {},
   "outputs": [],
   "source": [
    "# 41. Lists\n",
    "\n",
    "if __name__ == '__main__':\n",
    "    N = int(input())\n",
    "    lst = []\n",
    "    for i in range(N):\n",
    "        cmd = input().split()\n",
    "        if cmd[0]==\"insert\":\n",
    "            lst.insert(int(cmd[1]), int(cmd[2]))\n",
    "            if cmd[0] == \"print\":\n",
    "                print(lst)\n",
    "        if cmd[0] == \"remove\":\n",
    "            lst.remove(int(cmd[1]))\n",
    "        if cmd[0] == \"append\":\n",
    "            lst.append(int(cmd[1]))\n",
    "        if cmd[0] == \"sort\":\n",
    "            lst.sort()\n",
    "        if cmd[0] == \"pop\":\n",
    "            lst.pop()\n",
    "        if cmd[0] == \"reverse\":\n",
    "            lst.reverse()\n",
    "        if cmd[0] == \"print\":\n",
    "            print(lst)\n",
    "            "
   ]
  },
  {
   "cell_type": "code",
   "execution_count": null,
   "metadata": {},
   "outputs": [],
   "source": []
  },
  {
   "cell_type": "code",
   "execution_count": null,
   "metadata": {},
   "outputs": [],
   "source": [
    "# 42. Exceptions\n",
    "\n",
    "T = int(input())\n",
    "for i in range(T):\n",
    "    a,b = (input().split())\n",
    "    try:\n",
    "        print (int(a)//int(b))\n",
    "    except ZeroDivisionError as e:\n",
    "        print (\"Error Code:\",e)\n",
    "    except ValueError as e:\n",
    "        print (\"Error Code:\",e)\n",
    "        "
   ]
  },
  {
   "cell_type": "code",
   "execution_count": null,
   "metadata": {},
   "outputs": [],
   "source": []
  },
  {
   "cell_type": "code",
   "execution_count": null,
   "metadata": {},
   "outputs": [],
   "source": [
    "# 43. No Idea!\n",
    "\n",
    "n, m = map(int, input().split())\n",
    "array = (input().split())\n",
    "A = set(input().split())\n",
    "B = set(input().split())\n",
    "happiness = 0\n",
    "\n",
    "for i in array:\n",
    "    if i in A:\n",
    "        happiness += 1\n",
    "    if i in B:\n",
    "        happiness -= 1\n",
    "print(happiness)\n"
   ]
  },
  {
   "cell_type": "code",
   "execution_count": null,
   "metadata": {},
   "outputs": [],
   "source": []
  },
  {
   "cell_type": "code",
   "execution_count": null,
   "metadata": {},
   "outputs": [],
   "source": [
    "# 44. collections.Counter()\n",
    "\n",
    "from collections import Counter\n",
    "\n",
    "X = int(input())\n",
    "shoes_list = list(map(int, input().split()))\n",
    "avail_shoes = Counter(shoes_list)\n",
    "N = int(input())\n",
    "earning = 0\n",
    "for i in range(N):\n",
    "    size, price = list(map(int, input().split()))\n",
    "    if avail_shoes[size]: \n",
    "        earning += price\n",
    "        avail_shoes[size] -= 1\n",
    "\n",
    "print (earning)\n"
   ]
  },
  {
   "cell_type": "code",
   "execution_count": null,
   "metadata": {},
   "outputs": [],
   "source": []
  },
  {
   "cell_type": "code",
   "execution_count": null,
   "metadata": {},
   "outputs": [],
   "source": [
    "# 45. Birthday Cake Candles\n",
    "\n",
    "#!/bin/python3\n",
    "\n",
    "import math\n",
    "import os\n",
    "import random\n",
    "import re\n",
    "import sys\n",
    "\n",
    "# Complete the birthdayCakeCandles function below.\n",
    "def birthdayCakeCandles(ar):\n",
    "    new_ar = (sorted(ar))[::-1]\n",
    "    same_cand = []\n",
    "    tot = 0\n",
    "    for i in range(len(new_ar)):\n",
    "        if new_ar[i] == new_ar[0]:\n",
    "            same_cand.append(new_ar[i])\n",
    "            tot += 1\n",
    "    return (tot)\n",
    "\n",
    "if __name__ == '__main__':\n",
    "    fptr = open(os.environ['OUTPUT_PATH'], 'w')\n",
    "\n",
    "    ar_count = int(input())\n",
    "\n",
    "    ar = list(map(int, input().rstrip().split()))\n",
    "\n",
    "    result = birthdayCakeCandles(ar)\n",
    "\n",
    "    fptr.write(str(result) + '\\n')\n",
    "\n",
    "    fptr.close()\n",
    "    "
   ]
  },
  {
   "cell_type": "code",
   "execution_count": null,
   "metadata": {},
   "outputs": [],
   "source": []
  },
  {
   "cell_type": "code",
   "execution_count": null,
   "metadata": {},
   "outputs": [],
   "source": [
    "# 46. Viral Advertising\n",
    "\n",
    "#!/bin/python3\n",
    "\n",
    "import math\n",
    "import os\n",
    "import random\n",
    "import re\n",
    "import sys\n",
    "\n",
    "# Complete the viralAdvertising function below.\n",
    "def viralAdvertising(n):\n",
    "    x = 5\n",
    "    liked = 0\n",
    "    cumulative = 0\n",
    "\n",
    "    for i in range(n):\n",
    "        liked = (x//2)\n",
    "        x = liked*3\n",
    "        cumulative += liked\n",
    "    return cumulative\n",
    "\n",
    "\n",
    "if __name__ == '__main__':\n",
    "    fptr = open(os.environ['OUTPUT_PATH'], 'w')\n",
    "\n",
    "    n = int(input())\n",
    "\n",
    "    result = viralAdvertising(n)\n",
    "\n",
    "    fptr.write(str(result) + '\\n')\n",
    "\n",
    "    fptr.close()\n",
    "    "
   ]
  },
  {
   "cell_type": "code",
   "execution_count": null,
   "metadata": {},
   "outputs": [],
   "source": []
  },
  {
   "cell_type": "code",
   "execution_count": null,
   "metadata": {},
   "outputs": [],
   "source": [
    "# 47. Recursive Digit Sum\n",
    "\n",
    "#!/bin/python3\n",
    "\n",
    "import math\n",
    "import os\n",
    "import random\n",
    "import re\n",
    "import sys\n",
    "\n",
    "# Complete the superDigit function below.\n",
    "def superDigit(n, k):\n",
    "    \n",
    "    def inside_sdigit(my_string):\n",
    "        if len(my_string) == 1:\n",
    "            return my_string\n",
    "        result = sum(int(s) for s in my_string)\n",
    "        return inside_sdigit(str(result))\n",
    "    \n",
    "    total = sum(int(s) for s in n) * k\n",
    "    return inside_sdigit(str(total))\n",
    "\n",
    "if __name__ == '__main__':\n",
    "    fptr = open(os.environ['OUTPUT_PATH'], 'w')\n",
    "\n",
    "    nk = input().split()\n",
    "\n",
    "    n = nk[0]\n",
    "\n",
    "    k = int(nk[1])\n",
    "\n",
    "    result = superDigit(n, k)\n",
    "\n",
    "    fptr.write(str(result) + '\\n')\n",
    "\n",
    "    fptr.close()\n",
    "    "
   ]
  },
  {
   "cell_type": "code",
   "execution_count": null,
   "metadata": {},
   "outputs": [],
   "source": []
  },
  {
   "cell_type": "code",
   "execution_count": null,
   "metadata": {},
   "outputs": [],
   "source": [
    "# 48. Calendar Module\n",
    "\n",
    "import calendar\n",
    "m, d, y = list(map(int, input().split()))\n",
    "print(list(calendar.day_name)[calendar.weekday(y, m, d)].upper())\n"
   ]
  },
  {
   "cell_type": "code",
   "execution_count": null,
   "metadata": {},
   "outputs": [],
   "source": []
  },
  {
   "cell_type": "code",
   "execution_count": null,
   "metadata": {},
   "outputs": [],
   "source": [
    "# 49. Set Mutations\n",
    "\n",
    "NtotA = int(input())\n",
    "A = set(map(int, input().split()))\n",
    "N = int(input())\n",
    "\n",
    "for NtotA in range(int(N)):\n",
    "    cmd, NtotA = input().split()\n",
    "    B = set(map(int, input().split()))\n",
    "    if(cmd == \"intersection_update\"):\n",
    "        A.intersection_update(B)\n",
    "    elif(cmd == \"update\"):\n",
    "        A.update(B)\n",
    "    elif(cmd == \"symmetric_difference_update\"):\n",
    "        A.symmetric_difference_update(B)\n",
    "    elif(cmd == \"difference_update\"):\n",
    "        A.difference_update(B)\n",
    "\n",
    "print(sum(A))\n"
   ]
  },
  {
   "cell_type": "code",
   "execution_count": null,
   "metadata": {},
   "outputs": [],
   "source": []
  },
  {
   "cell_type": "code",
   "execution_count": null,
   "metadata": {},
   "outputs": [],
   "source": [
    "# 50. Check Subset\n",
    "\n",
    "T = int(input())\n",
    "for i in range(T):\n",
    "    nA = int(input())\n",
    "    A = set(map(int, input().split()))\n",
    "    nB = int(input())\n",
    "    B = set(map(int, input().split()))\n",
    "    print((A).issubset(B))"
   ]
  },
  {
   "cell_type": "code",
   "execution_count": null,
   "metadata": {},
   "outputs": [],
   "source": []
  },
  {
   "cell_type": "code",
   "execution_count": null,
   "metadata": {},
   "outputs": [],
   "source": [
    "# 51. Check Strict Superset\n",
    "\n",
    "A = set(map(int, input().split()))\n",
    "n_other = int(input())\n",
    "isstrictsuperset = True\n",
    "new_set = []\n",
    "for i in range(n_other):\n",
    "    check_set = set(map(int, input().split()))\n",
    "    new_set.append(check_set) \n",
    "    if not check_set.issubset(A):\n",
    "        isstrictsuperset = False\n",
    "    if len(check_set) >= len(A):\n",
    "        isstrictsuperset = False\n",
    "        \n",
    "print(isstrictsuperset)"
   ]
  },
  {
   "cell_type": "code",
   "execution_count": null,
   "metadata": {},
   "outputs": [],
   "source": []
  },
  {
   "cell_type": "code",
   "execution_count": null,
   "metadata": {},
   "outputs": [],
   "source": [
    "# 52. Collections.OrderedDict()\n",
    "\n",
    "from collections import OrderedDict as od\n",
    "\n",
    "N = int(input())\n",
    "D = od()\n",
    "for i in range(N):\n",
    "    cmd = input().split()\n",
    "    item_name, price = ' '.join(cmd[:-1]), int(cmd[-1])\n",
    "    D[item_name] = D.get(item_name, 0) + int(price)\n",
    "\n",
    "for item_name, price in D.items():\n",
    "    print(item_name, price)\n",
    "    "
   ]
  },
  {
   "cell_type": "code",
   "execution_count": null,
   "metadata": {},
   "outputs": [],
   "source": []
  },
  {
   "cell_type": "code",
   "execution_count": null,
   "metadata": {},
   "outputs": [],
   "source": [
    "# 53. Word Order\n",
    "\n",
    "from collections import OrderedDict as od\n",
    "t_words = od()\n",
    "N = int(input())\n",
    "for i in range(N):\n",
    "    word = input()\n",
    "    t_words.setdefault(word, 0)\n",
    "    t_words[word] += 1\n",
    "   \n",
    "print(len(t_words))\n",
    "print(*t_words.values())\n"
   ]
  },
  {
   "cell_type": "code",
   "execution_count": null,
   "metadata": {},
   "outputs": [],
   "source": []
  },
  {
   "cell_type": "code",
   "execution_count": null,
   "metadata": {},
   "outputs": [],
   "source": [
    "# 54. Collections.deque()\n",
    "\n",
    "from collections import deque\n",
    "d = deque()\n",
    "N = int(input())\n",
    "for i in range(N):\n",
    "    cmd = input().split()\n",
    "    if cmd[0]==\"append\":\n",
    "        d.append(int(cmd[1]))\n",
    "    if cmd[0] == \"appendleft\":\n",
    "        d.appendleft(int(cmd[1]))\n",
    "    if cmd[0] == \"pop\":\n",
    "        d.pop()\n",
    "    if cmd[0] == \"popleft\":\n",
    "        d.popleft()\n",
    "tot = \"\"\n",
    "for i in d:\n",
    "    tot += str(i) + \" \"\n",
    "print(tot)\n"
   ]
  },
  {
   "cell_type": "code",
   "execution_count": null,
   "metadata": {},
   "outputs": [],
   "source": []
  },
  {
   "cell_type": "code",
   "execution_count": null,
   "metadata": {},
   "outputs": [],
   "source": [
    "# 55. Piling Up!\n",
    "\n",
    "T = int(input())\n",
    "for i in range(T):\n",
    "    input()\n",
    "    lst = [int(i) for i in input().split()]\n",
    "    min_list = lst.index(min(lst))\n",
    "    left = lst[:min_list]\n",
    "    right = lst[min_list+1:]\n",
    "    if left == sorted(left,reverse=True) and right == sorted(right): #for this part I checked on discussions\n",
    "        print(\"Yes\")\n",
    "    else:\n",
    "        print(\"No\")\n",
    "        "
   ]
  },
  {
   "cell_type": "code",
   "execution_count": null,
   "metadata": {},
   "outputs": [],
   "source": []
  },
  {
   "cell_type": "code",
   "execution_count": null,
   "metadata": {},
   "outputs": [],
   "source": [
    "# 56. Zipped!\n",
    "\n",
    "n, x = map(int, input().split()) # n = number of students; x = different subject\n",
    "\n",
    "table = []\n",
    "for i in range(x):\n",
    "    table.append( map(float, input().split()) ) \n",
    "\n",
    "for i in zip(*table): \n",
    "    print(\"{0:.1f}\".format(sum(i)/len(i)))\n",
    "    "
   ]
  },
  {
   "cell_type": "code",
   "execution_count": null,
   "metadata": {},
   "outputs": [],
   "source": []
  },
  {
   "cell_type": "code",
   "execution_count": null,
   "metadata": {},
   "outputs": [],
   "source": [
    "# 57. ginortS\n",
    "\n",
    "S = input()\n",
    "lower = []\n",
    "upper = []\n",
    "even = []\n",
    "odd = []\n",
    "new_s = []\n",
    "for i in S:\n",
    "    if i.islower():\n",
    "        lower.append(i)\n",
    "for i in S:    \n",
    "    if i.isupper():\n",
    "        upper.append(i)\n",
    "for i in S:\n",
    "    if i.isdecimal():\n",
    "        if int(i)%2!=0:\n",
    "            odd.append(str(i))\n",
    "for i in S:\n",
    "    if i.isdecimal():\n",
    "        if int(i)%2==0:\n",
    "            even.append(str(i))\n",
    "\n",
    "final = (sorted(lower))+(sorted(upper))+(sorted(odd))+(sorted(even))\n",
    "result = \"\".join(final)\n",
    "print(result) #one hour working to produce this ugly code.. in future I'll do it better"
   ]
  },
  {
   "cell_type": "code",
   "execution_count": null,
   "metadata": {},
   "outputs": [],
   "source": []
  },
  {
   "cell_type": "code",
   "execution_count": null,
   "metadata": {},
   "outputs": [],
   "source": [
    "# 58. Athlete Sort\n",
    "\n",
    "from operator import itemgetter as itg\n",
    "\n",
    "nm = input().split()\n",
    "n = int(nm[0])\n",
    "m = int(nm[1])\n",
    "arr = []\n",
    "\n",
    "for _ in range(n):\n",
    "    arr.append(list(map(int, input().rstrip().split())))\n",
    "\n",
    "k = int(input())\n",
    "\n",
    "for i in sorted(arr, key=itg(k)):\n",
    "    print(*i)\n",
    "    "
   ]
  },
  {
   "cell_type": "code",
   "execution_count": null,
   "metadata": {},
   "outputs": [],
   "source": []
  },
  {
   "cell_type": "code",
   "execution_count": null,
   "metadata": {},
   "outputs": [],
   "source": [
    "# 59. Map and Lambda Function\n",
    "\n",
    "cube = lambda x: x**3\n",
    "\n",
    "def fibonacci(n):\n",
    "    lst = [0,1]\n",
    "    for i in range(2,n):\n",
    "        lst.append(lst[i-2]+lst[i-1])\n",
    "    return(lst[0:n])\n"
   ]
  },
  {
   "cell_type": "code",
   "execution_count": null,
   "metadata": {},
   "outputs": [],
   "source": []
  },
  {
   "cell_type": "code",
   "execution_count": null,
   "metadata": {},
   "outputs": [],
   "source": [
    "# 60. Standardize Mobile Number Using Decorators\n",
    "\n",
    "def wrapper(f):\n",
    "    def fun(l):\n",
    "        f('+91 {} {}'.format(n[-10:-5], n[-5:]) for n in l)\n",
    "        \n",
    "    return fun\n",
    "\n",
    "@wrapper\n",
    "def sort_phone(l):\n",
    "    print(*sorted(l), sep='\\n')\n",
    "\n",
    "if __name__ == '__main__':\n",
    "    l = [input() for _ in range(int(input()))]\n",
    "    sort_phone(l) \n",
    "    "
   ]
  },
  {
   "cell_type": "code",
   "execution_count": null,
   "metadata": {},
   "outputs": [],
   "source": []
  },
  {
   "cell_type": "code",
   "execution_count": null,
   "metadata": {},
   "outputs": [],
   "source": [
    "# 61. Decorators 2 - Name Directory\n",
    "\n",
    "import operator\n",
    "\n",
    "def person_lister(f):\n",
    "    def inner(people):\n",
    "        return (f(_) for _ in sorted(people,key=lambda x: int(x[2])))\n",
    "    \n",
    "    return inner\n",
    "\n",
    "@person_lister\n",
    "def name_format(person):\n",
    "    return (\"Mr. \" if person[3] == \"M\" else \"Ms. \") + person[0] + \" \" + person[1]\n",
    "\n",
    "if __name__ == '__main__':\n",
    "    people = [input().split() for i in range(int(input()))]\n",
    "    print(*name_format(people), sep='\\n')\n",
    "    "
   ]
  },
  {
   "cell_type": "code",
   "execution_count": null,
   "metadata": {},
   "outputs": [],
   "source": []
  },
  {
   "cell_type": "code",
   "execution_count": null,
   "metadata": {},
   "outputs": [],
   "source": [
    "# 62. Polynomials\n",
    "\n",
    "import numpy as np\n",
    "\n",
    "p = list(map(float,input().split()))\n",
    "x = input()\n",
    "print(np.polyval(p,int(x)))\n"
   ]
  },
  {
   "cell_type": "code",
   "execution_count": null,
   "metadata": {},
   "outputs": [],
   "source": []
  },
  {
   "cell_type": "code",
   "execution_count": null,
   "metadata": {},
   "outputs": [],
   "source": [
    "# 63. Linear Algebra\n",
    "\n",
    "import numpy as np\n",
    "\n",
    "N = int(input())\n",
    "A = np.array([input().split() for i in range(N)], float)\n",
    "np.set_printoptions(legacy='1.13') #I checked for this line in \"Discussions\" to fix the approximation problem\n",
    "print (np.linalg.det(A))\n"
   ]
  },
  {
   "cell_type": "code",
   "execution_count": null,
   "metadata": {},
   "outputs": [],
   "source": []
  },
  {
   "cell_type": "code",
   "execution_count": null,
   "metadata": {},
   "outputs": [],
   "source": [
    "# 64. Kangaroo\n",
    "\n",
    "#!/bin/python3\n",
    "\n",
    "import math\n",
    "import os\n",
    "import random\n",
    "import re\n",
    "import sys\n",
    "\n",
    "# Complete the kangaroo function below.\n",
    "def kangaroo(x1, v1, x2, v2):\n",
    "    if v1 != v2:\n",
    "        m = (x2-x1)/(v1-v2)\n",
    "    if m > 0 and m == int(m):\n",
    "        return ('YES')\n",
    "    else:\n",
    "        return ('NO')\n",
    "\n",
    "if __name__ == '__main__':\n",
    "    fptr = open(os.environ['OUTPUT_PATH'], 'w')\n",
    "\n",
    "    x1V1X2V2 = input().split()\n",
    "\n",
    "    x1 = int(x1V1X2V2[0])\n",
    "\n",
    "    v1 = int(x1V1X2V2[1])\n",
    "\n",
    "    x2 = int(x1V1X2V2[2])\n",
    "\n",
    "    v2 = int(x1V1X2V2[3])\n",
    "\n",
    "    result = kangaroo(x1, v1, x2, v2)\n",
    "\n",
    "    fptr.write(result + '\\n')\n",
    "\n",
    "    fptr.close()\n",
    "    \n",
    "# 1/30 testcase is wrong. The total score is 7.30/10"
   ]
  },
  {
   "cell_type": "code",
   "execution_count": null,
   "metadata": {},
   "outputs": [],
   "source": []
  },
  {
   "cell_type": "code",
   "execution_count": null,
   "metadata": {},
   "outputs": [],
   "source": [
    "# 65. Designer Door Mat\n",
    "\n",
    "N, M = map(int, input().split()) \n",
    "for i in range(1,N,2): \n",
    "    print((i*'.|.').center(M,'-'))\n",
    "print('WELCOME'.center(M,'-')) \n",
    "for j in range(N-2,-1,-2): \n",
    "    print((j*'.|.').center(M, '-'))\n",
    "    "
   ]
  },
  {
   "cell_type": "code",
   "execution_count": null,
   "metadata": {},
   "outputs": [],
   "source": []
  },
  {
   "cell_type": "code",
   "execution_count": null,
   "metadata": {},
   "outputs": [],
   "source": [
    "# 66. Text Alignment\n",
    "\n",
    "thickness = int(input())\n",
    "c = 'H'\n",
    "\n",
    "#Top Cone\n",
    "for i in range(thickness):\n",
    "    print((c*i).rjust(thickness-1)+c+(c*i).ljust(thickness-1))\n",
    "\n",
    "#Top Pillars\n",
    "for i in range(thickness+1):\n",
    "    print((c*thickness).center(thickness*2)+(c*thickness).center(thickness*6))\n",
    "\n",
    "#Middle Belt\n",
    "for i in range((thickness+1)//2):\n",
    "    print((c*thickness*5).center(thickness*6))    \n",
    "\n",
    "#Bottom Pillars\n",
    "for i in range(thickness+1):\n",
    "    print((c*thickness).center(thickness*2)+(c*thickness).center(thickness*6))    \n",
    "\n",
    "#Bottom Cone\n",
    "for i in range(thickness):\n",
    "    print(((c*(thickness-i-1)).rjust(thickness)+c+(c*(thickness-i-1)).ljust(thickness)).rjust(thickness*6))\n",
    "    "
   ]
  },
  {
   "cell_type": "code",
   "execution_count": null,
   "metadata": {},
   "outputs": [],
   "source": []
  },
  {
   "cell_type": "code",
   "execution_count": null,
   "metadata": {},
   "outputs": [],
   "source": [
    "# 67. String Formatting\n",
    "\n",
    "def print_formatted(number):\n",
    "    w = len(str(bin(number)).replace('0b',''))\n",
    "    for i in range(1, number+1):        \n",
    "        dec = str(i)\n",
    "        ol = str(oct(i)).replace('0o','')\n",
    "        hel = str(hex(i)).replace('0x','').upper()\n",
    "        binary = str(bin(i)).replace('0b','')\n",
    "\n",
    "        print(dec.rjust(w), ol.rjust(w), hel.rjust(w), binary.rjust(w), sep=' ')\n",
    "        "
   ]
  },
  {
   "cell_type": "code",
   "execution_count": null,
   "metadata": {},
   "outputs": [],
   "source": []
  },
  {
   "cell_type": "code",
   "execution_count": null,
   "metadata": {},
   "outputs": [],
   "source": [
    "# 68. Set .discard(), .remove() & .pop()\n",
    "\n",
    "n = int(input())\n",
    "s = set(map(int, input().split()))\n",
    "tot_commands = int(input())\n",
    "for i in range(tot_commands):\n",
    "    cmd = input().split()\n",
    "    if cmd[0]==\"pop\":\n",
    "        s.pop()\n",
    "    elif cmd[0] == \"remove\":\n",
    "        s.remove(int(cmd[1]))\n",
    "    elif cmd[0] == \"discard\":\n",
    "        s.discard(int(cmd[1]))\n",
    "    elif cmd[0] == \"remove\":\n",
    "        s.remove(int(cmd[1]))\n",
    "    elif cmd[0] == \"pop\":\n",
    "        s.pop()\n",
    "    elif cmd[0] == \"discard\":\n",
    "        s.discard()\n",
    "    elif cmd[0] == \"remove\":\n",
    "        s.remove(int(cmd[1]))\n",
    "    elif cmd[0] == \"pop\":\n",
    "        s.pop()\n",
    "    elif cmd[0] == \"discard\":\n",
    "        s.discard(int(cmd[1]))\n",
    "print(sum(s))\n",
    "\n"
   ]
  },
  {
   "cell_type": "code",
   "execution_count": null,
   "metadata": {},
   "outputs": [],
   "source": []
  },
  {
   "cell_type": "code",
   "execution_count": null,
   "metadata": {},
   "outputs": [],
   "source": [
    "# 69. Collections.namedtuple()\n",
    "\n",
    "from collections import namedtuple\n",
    "\n",
    "N = int(input())\n",
    "objs = input().split()\n",
    "total = 0\n",
    "\n",
    "for i in range(int(N)):\n",
    "    students = namedtuple('student', objs)\n",
    "    obj1, obj2, obj3, obj4 = input().split()\n",
    "    student = students(obj1, obj2, obj3, obj4)\n",
    "    total += int(student.MARKS)\n",
    "print('{:.2f}'.format(total/N))\n"
   ]
  },
  {
   "cell_type": "code",
   "execution_count": null,
   "metadata": {},
   "outputs": [],
   "source": []
  },
  {
   "cell_type": "code",
   "execution_count": null,
   "metadata": {},
   "outputs": [],
   "source": [
    "# 70. DefaultDict Tutorial\n",
    "\n",
    "from collections import defaultdict as defdt\n",
    "n,m = map(int,input().split())\n",
    "A=defdt(list)\n",
    "\n",
    "for i in range(n):\n",
    "    A[input()].append(str(i+1))\n",
    "\n",
    "for i in range(m):\n",
    "    print(' '.join(A[input()]) or -1)\n",
    "    "
   ]
  },
  {
   "cell_type": "code",
   "execution_count": null,
   "metadata": {},
   "outputs": [],
   "source": []
  },
  {
   "cell_type": "code",
   "execution_count": null,
   "metadata": {},
   "outputs": [],
   "source": []
  }
 ],
 "metadata": {
  "kernelspec": {
   "display_name": "Python 3",
   "language": "python",
   "name": "python3"
  },
  "language_info": {
   "codemirror_mode": {
    "name": "ipython",
    "version": 3
   },
   "file_extension": ".py",
   "mimetype": "text/x-python",
   "name": "python",
   "nbconvert_exporter": "python",
   "pygments_lexer": "ipython3",
   "version": "3.7.3"
  }
 },
 "nbformat": 4,
 "nbformat_minor": 2
}
